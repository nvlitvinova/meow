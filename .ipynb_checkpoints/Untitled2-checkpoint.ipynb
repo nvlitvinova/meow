{
 "cells": [
  {
   "cell_type": "code",
   "execution_count": 40,
   "metadata": {
    "collapsed": false
   },
   "outputs": [],
   "source": [
    "#http://younglinux.info/python\n",
    "# Практическая работа №1\n",
    "\n",
    "#1. Переменной var_int присвойте значение 10, var_float - значение 8.4, var_str - \"No\".\n",
    "#2. Измените значение, хранимое в переменной var_int, увеличив его в 3.5 раза, результат свяжите с переменной big_int.\n",
    "#3. Измените значение, хранимое в переменной var_float, уменьшив его на единицу, результат свяжите с той же переменной.\n",
    "#4. Разделите var_int на var_float, а затем big_int на var_float. Результат данных выражений не привязывайте ни к каким переменным.\n",
    "#5. Измените значение переменной var_str на \"NoNoYesYesYes\". При формировании нового значения используйте операции конкатенации \n",
    "#(+) и повторения строки (*).\n",
    "#Выведите значения всех переменных.\n",
    "var_int = 10\n",
    "var_float = 8.4\n",
    "var_str = \"NO\"\n",
    "\n",
    "big_int = var_int * 3.5\n",
    "var_float = var_float - 1\n",
    "var_int / var_float\n",
    "big_int / var_float\n",
    "var_str = var_str * 2 + \"Yes\" * 2"
   ]
  },
  {
   "cell_type": "code",
   "execution_count": 41,
   "metadata": {
    "collapsed": false
   },
   "outputs": [
    {
     "name": "stdout",
     "output_type": "stream",
     "text": [
      "10\n",
      "7.4\n",
      "NONOYesYes\n",
      "35.0\n"
     ]
    }
   ],
   "source": [
    "print(var_int)\n",
    "print(var_float)\n",
    "print(var_str)\n",
    "print(big_int)"
   ]
  },
  {
   "cell_type": "code",
   "execution_count": 62,
   "metadata": {
    "collapsed": false
   },
   "outputs": [
    {
     "data": {
      "text/plain": [
       "False"
      ]
     },
     "execution_count": 62,
     "metadata": {},
     "output_type": "execute_result"
    }
   ],
   "source": [
    "# Практическая работа №2\n",
    "\n",
    "#1. Присвойте двум переменным любые числовые значения.\n",
    "#2. Составьте четыре сложных логических выражения с помощью оператора and, два из которых должны давать истину, а два других - ложь.\n",
    "#3. Аналогично выполните п. 2, но уже используя оператор or.\n",
    "#4. Попробуйте использовать в сложных логических выражениях работу с переменными строкового типа.\n",
    "a = 13.13\n",
    "b = -4\n",
    "\n",
    "a > 10 and b!= 666\n",
    "a == 13.13 and b < 0\n",
    "a > 123 and b == -4\n",
    "a != 1 and b > -4\n",
    "\n",
    "a < 14 or b < 14\n",
    "a <= 13.13 or b != -4\n",
    "a < 13.13 or b > -4\n",
    "a == -4 or b >=0"
   ]
  },
  {
   "cell_type": "code",
   "execution_count": 21,
   "metadata": {
    "collapsed": false
   },
   "outputs": [
    {
     "data": {
      "text/plain": [
       "False"
      ]
     },
     "execution_count": 21,
     "metadata": {},
     "output_type": "execute_result"
    }
   ],
   "source": [
    "'a' >= 'b' and 'b' > 'c'"
   ]
  },
  {
   "cell_type": "code",
   "execution_count": 46,
   "metadata": {
    "collapsed": false
   },
   "outputs": [
    {
     "name": "stdout",
     "output_type": "stream",
     "text": [
      "Ого, число больше нуля!\n"
     ]
    }
   ],
   "source": [
    "#Практическая работа №3\n",
    "\n",
    "#1. Напишите программный код, в котором в случае, если значение некой переменной больше 0, выводилось бы специальное сообщение \n",
    "#(используйте функцию print). Один раз выполните программу при значении переменной больше 0, второй раз — меньше 0.\n",
    "\n",
    "#2. Усовершенствуйте предыдущий код с помощью ветки else так, чтобы в зависимости от значения переменной, выводилась либо 1, либо -1.\n",
    "\n",
    "#3. Самостоятельно придумайте программу, в которой бы использовалась инструкция if (желательно с веткой else). Вложенный код \n",
    "#должен содержать не менее трех выражений.\n",
    "\n",
    "a = 12\n",
    "if a > 0:\n",
    "    print('Ого, число больше нуля!')\n",
    "else:\n",
    "    print('Кажется, число меньше, либо равно нулю.')"
   ]
  },
  {
   "cell_type": "code",
   "execution_count": 41,
   "metadata": {
    "collapsed": false
   },
   "outputs": [
    {
     "name": "stdout",
     "output_type": "stream",
     "text": [
      "Введи любое целое число!\n",
      "-5\n",
      "Это отрицательное число\n",
      "А теперь введи дробное число, например, 12,34 или - 8,5\n",
      "-559.05\n",
      "Это отрицательное число\n"
     ]
    }
   ],
   "source": [
    "print('Введи любое целое число!')\n",
    "a = int(input())\n",
    "if a > 0:\n",
    "    print('Это целое положительное число')\n",
    "elif a == 0:\n",
    "    print('Это ноль')\n",
    "else:\n",
    "    print('Это целое отрицательное число')\n",
    "print('А теперь введи дробное число, например, 12,34 или - 8,5')\n",
    "b = float(input())\n",
    "if b > 0:\n",
    "    print('Это дробное положительное число')\n",
    "elif b == 0:\n",
    "    print('Это ноль')\n",
    "else:\n",
    "    print('Это дробное отрицательное число')"
   ]
  },
  {
   "cell_type": "code",
   "execution_count": 30,
   "metadata": {
    "collapsed": false
   },
   "outputs": [
    {
     "name": "stdout",
     "output_type": "stream",
     "text": [
      "Привет! Первый вопрос. Как тебя зовут?\n",
      "\n",
      "Друг, кажется, ты забыл свое имя...\n"
     ]
    }
   ],
   "source": [
    "#Практическая работа №4\n",
    "\n",
    "#1. Напишите программу по следующему описанию:\n",
    "#a. двум переменным присваиваются числовые значения;\n",
    "#b. если значение первой переменной больше второй, то найти разницу значений переменных (вычесть из первой вторую), результат \n",
    "#связать с третьей переменной;\n",
    "#c. если первая переменная имеет меньшее значение, чем вторая, то третью переменную связать с результатом суммы значений двух \n",
    "#первых переменных;\n",
    "#d. во всех остальных случаях, присвоить третьей переменной значение первой переменной;\n",
    "#e. вывести значение третьей переменной на экран.\n",
    "\n",
    "#2. Придумайте программу, в которой бы использовалась инструкция if-elif-else. Количество ветвей должно быть как минимум четыре.\n",
    "\n",
    "print('Привет! Как тебя зовут?')\n",
    "a = str(input())\n",
    "if len(a) > 5 and len(a) <= 13:\n",
    "    print('Длина твоего имени более 5 символов!')\n",
    "elif len(a) == 5:\n",
    "    print('Ого, длина твоего имени ровно 5 символов!')\n",
    "elif len(a) == 0:\n",
    "    print('Друг, кажется, ты забыл свое имя...')\n",
    "elif len(a) > 13:\n",
    "    print('У тебя подозрительно длинное имя, я вычислю твое имя по ай пи!')\n",
    "else:\n",
    "    print('Длина твоего имени менее 5 символов!')"
   ]
  },
  {
   "cell_type": "code",
   "execution_count": 45,
   "metadata": {
    "collapsed": false
   },
   "outputs": [
    {
     "name": "stdout",
     "output_type": "stream",
     "text": [
      "Введи первое целое число\n",
      "45\n",
      "Введи второе целое число\n",
      "9\n",
      "36\n"
     ]
    }
   ],
   "source": [
    "print('Введи первое целое число')\n",
    "j = int(input())\n",
    "print('Введи второе целое число')\n",
    "k = int(input())\n",
    "if j > k:\n",
    "    l = j - k\n",
    "    print(l)\n",
    "elif j < k:\n",
    "    l = j + k\n",
    "    print(l)\n",
    "else:\n",
    "    l = j\n",
    "    print(l)"
   ]
  },
  {
   "cell_type": "code",
   "execution_count": 22,
   "metadata": {
    "collapsed": false
   },
   "outputs": [
    {
     "name": "stdout",
     "output_type": "stream",
     "text": [
      "0\n",
      "Mid\n"
     ]
    }
   ],
   "source": [
    "a = int(input())\n",
    "if a < -5:\n",
    "    print('Low')\n",
    "elif -5 <= a <= 5:\n",
    "    print('Mid')\n",
    "else:\n",
    "    print('High')"
   ]
  },
  {
   "cell_type": "code",
   "execution_count": 47,
   "metadata": {
    "collapsed": false
   },
   "outputs": [
    {
     "name": "stdout",
     "output_type": "stream",
     "text": [
      "1\n",
      "2\n",
      "3\n",
      "5\n",
      "8\n",
      "13\n",
      "21\n",
      "34\n",
      "55\n",
      "89\n"
     ]
    }
   ],
   "source": [
    "#Практическая работа №5\n",
    "#1. Напишите скрипт на языке программирования Python, выводящий ряд чисел Фибоначчи. Запустите его на выполнение. Затем измените \n",
    "#код так, чтобы выводился ряд чисел Фибоначчи, начиная с пятого члена ряда и заканчивая двадцатым.\n",
    "#2. Напишите цикл, выводящий ряд четных чисел от 0 до 20. Затем, каждое третье число в ряде от -1 до -21.\n",
    "#3. Самостоятельно придумайте программу на Python, в которой бы использовался цикл while.   \n",
    "\n",
    "a = 1\n",
    "b = 2\n",
    "print(a)\n",
    "print(b)\n",
    "i = 0\n",
    "j = 8\n",
    "while i < j:\n",
    "    sum = a + b\n",
    "    a = b\n",
    "    b = sum\n",
    "    print(sum)\n",
    "    i = i + 1"
   ]
  },
  {
   "cell_type": "code",
   "execution_count": 52,
   "metadata": {
    "collapsed": false
   },
   "outputs": [
    {
     "name": "stdout",
     "output_type": "stream",
     "text": [
      "34\n",
      "55\n",
      "89\n",
      "144\n",
      "233\n",
      "377\n",
      "610\n",
      "987\n",
      "1597\n",
      "2584\n",
      "4181\n",
      "6765\n",
      "10946\n"
     ]
    }
   ],
   "source": [
    "a = 1\n",
    "b = 2\n",
    "i = 0\n",
    "j = 18\n",
    "while i < j:\n",
    "    sum = a + b\n",
    "    a = b\n",
    "    b = sum\n",
    "    if i >= 5 and i <= 18:\n",
    "        print(sum)\n",
    "    i = i + 1"
   ]
  },
  {
   "cell_type": "code",
   "execution_count": 58,
   "metadata": {
    "collapsed": false
   },
   "outputs": [
    {
     "name": "stdout",
     "output_type": "stream",
     "text": [
      "Четные положительные числа от 0 до 20:\n",
      "0\n",
      "2\n",
      "4\n",
      "6\n",
      "8\n",
      "10\n",
      "12\n",
      "14\n",
      "16\n",
      "18\n",
      "20\n",
      "Каждое третье число в числовом ряде от -1 до -20:\n",
      "-21\n",
      "-18\n",
      "-15\n",
      "-12\n",
      "-9\n",
      "-6\n",
      "-3\n"
     ]
    }
   ],
   "source": [
    "print('Четные положительные числа от 0 до 20:')\n",
    "a = 0\n",
    "while a <= 20:\n",
    "    print(a)\n",
    "    a = a + 2\n",
    "    \n",
    "print('Каждое третье число в числовом ряде от -1 до -20:')\n",
    "b = -21\n",
    "while b <= -1:\n",
    "    print(b)\n",
    "    b = b + 3"
   ]
  },
  {
   "cell_type": "code",
   "execution_count": 9,
   "metadata": {
    "collapsed": false
   },
   "outputs": [
    {
     "name": "stdout",
     "output_type": "stream",
     "text": [
      "Привет! У нас есть числовой ряд от 1 до 10.\n",
      "Задай знаменатель прогрессии, и увидишь геометрическую прогрессию заданного ряда!\n",
      "8\n",
      "16\n",
      "24\n",
      "32\n",
      "40\n",
      "48\n",
      "56\n",
      "64\n",
      "72\n"
     ]
    }
   ],
   "source": [
    "print('Привет! У нас есть числовой ряд от 1 до 10.')\n",
    "print('Задай знаменатель прогрессии, и увидишь геометрическую прогрессию заданного ряда!')\n",
    "q = int(input())\n",
    "a = 1\n",
    "b = 1\n",
    "c = 10\n",
    "while b < c:\n",
    "    a = b * q\n",
    "    if b > 1:\n",
    "        print(a)\n",
    "    b = b + 1"
   ]
  },
  {
   "cell_type": "code",
   "execution_count": 6,
   "metadata": {
    "collapsed": true
   },
   "outputs": [],
   "source": [
    "#Практическая работа №6\n",
    "\n",
    "#1. Создайте скрипт (файл data.py), который бы запрашивал у пользователя\n",
    "#- его имя: \"What is your name?\"\n",
    "#- возраст: \"How old are you?\"\n",
    "#- место жительства: \"Where are you live?\"\n",
    "\n",
    "#а затем выводил три строки\n",
    "#- \"This is имя\"\n",
    "#- \"It is возраст\"\n",
    "#- \"He live in место_жительства\"\n",
    "#где вместо имя, возраст, место_жительства должны быть соответствующие данные, введенные пользователем.\n",
    "\n",
    "#2. Напишите программу (файл example.py), которая предлагала бы пользователю решить пример 4*100-54. Если \n",
    "#пользователь напишет правильный ответ, то получит поздравление от программы, иначе – программа сообщит ему об \n",
    "#ошибке. (При решении задачи используйте конструкцию if-else.)\n",
    "\n",
    "#3. Перепишите предыдущую программу так, чтобы пользователю предлагалось решать пример до тех пор, пока он не \n",
    "#напишет правильный ответ. (При решении задачи используйте цикл while.)\n",
    "\n",
    "f = open('data.py', 'w')\n",
    "f.close()"
   ]
  },
  {
   "cell_type": "code",
   "execution_count": 4,
   "metadata": {
    "collapsed": false
   },
   "outputs": [
    {
     "name": "stdout",
     "output_type": "stream",
     "text": [
      "What is your name? ffff\n",
      "How old are you? kkkkkkkk\n",
      "Where are you live?jjjjjjjj\n",
      "This is ffff\n",
      "It is kkkkkkkk\n",
      "He live in jjjjjjjj\n"
     ]
    }
   ],
   "source": [
    "user_name = input(\"What is your name? \")\n",
    "user_age = input(\"How old are you? \")\n",
    "user_sity = input(\"Where are you live?\" )\n",
    "\n",
    "print(\"This is \" + user_name)\n",
    "print(\"It is \" + user_age)\n",
    "print(\"He live in \" + user_sity)"
   ]
  },
  {
   "cell_type": "code",
   "execution_count": null,
   "metadata": {
    "collapsed": false
   },
   "outputs": [],
   "source": [
    "otvet = input(\"Привет! Попробуй решить пример 4*100-54/2*(1+9) \")\n",
    "#while otvet != '130':\n",
    "#    print(\"Садись, двойка. Ответ неверен. Попробуй еще раз!\")\n",
    "#print(\"Молодец! Ты решил правильно! +5 к ауре!\")"
   ]
  },
  {
   "cell_type": "code",
   "execution_count": 11,
   "metadata": {
    "collapsed": false
   },
   "outputs": [
    {
     "name": "stdout",
     "output_type": "stream",
     "text": [
      "red\n",
      "red\n",
      "red!\n",
      "red!\n"
     ]
    }
   ],
   "source": [
    "#Практическая работа №:\n",
    "\n",
    "#1. Напишите два скрипта представленных выше. Посмотрите, как они работают. Во второй программу добавьте еще одно \n",
    "#свойство и один метод, позволяющий его менять. Создайте третий объект и измените все его свойства.\n",
    "\n",
    "#2. Напишите программу в стиле ООП, удовлетворяющую следующим условиям: в программе должны быть два класса и два \n",
    "#объекта, принадлежащих разным классам; один объект с помощью метода своего класса должен так или иначе изменять \n",
    "#данные другого объекта.\n",
    "\n",
    "class First:\n",
    "     color = \"red\"\n",
    "     def out(self):\n",
    "          print (self.color + \"!\")\n",
    "            \n",
    "obj1 = First()\n",
    "obj2 = First() \n",
    "\n",
    "print (obj1.color)\n",
    "print (obj2.color)\n",
    "obj1.out()\n",
    "obj2.out()"
   ]
  },
  {
   "cell_type": "code",
   "execution_count": 10,
   "metadata": {
    "collapsed": false
   },
   "outputs": [
    {
     "name": "stdout",
     "output_type": "stream",
     "text": [
      "red circle\n",
      "red circle\n",
      "red circle vrvr\n",
      "green circle\n",
      "blue oval\n",
      "little_kitty black tartarary\n"
     ]
    }
   ],
   "source": [
    "class Second:\n",
    "     color = \"red\"\n",
    "     form = \"circle\"\n",
    "     name = \"vrvr\"\n",
    "     def changecolor(self,newcolor):\n",
    "          self.color = newcolor\n",
    "     def changeform(self,newform):\n",
    "          self.form = newform\n",
    "     def changename(self,newname):\n",
    "          self.name = newname\n",
    "     \n",
    "obj1 = Second()\n",
    "obj2 = Second()\n",
    "obj3 = Second()\n",
    " \n",
    "print (obj1.color, obj1.form) # вывод на экран \"red circle\"\n",
    "print (obj2.color, obj2.form) # вывод на экран \"red circle\"\n",
    "print (obj3.color, obj3.form, obj3.name)\n",
    " \n",
    "obj1.changecolor(\"green\") # изменение цвета первого объекта\n",
    "obj2.changecolor(\"blue\")  # изменение цвет второго объекта\n",
    "obj2.changeform(\"oval\")   # изменение формы второго объекта\n",
    "obj3.changecolor(\"black\")\n",
    "obj3.changeform(\"tartarary\")\n",
    "obj3.changename(\"little_kitty\")\n",
    " \n",
    "print (obj1.color, obj1.form) # вывод на экран \"green circle\"\n",
    "print (obj2.color, obj2.form) # вывод на экран \"blue oval\"\n",
    "print (obj3.name, obj3.color, obj3.form)"
   ]
  },
  {
   "cell_type": "code",
   "execution_count": 12,
   "metadata": {
    "collapsed": false
   },
   "outputs": [
    {
     "name": "stdout",
     "output_type": "stream",
     "text": [
      "доски белые малый склад\n",
      "доски коричневые основной склад\n",
      "кирпичи белые отсутствуют\n",
      "550 основной склад\n"
     ]
    }
   ],
   "source": [
    "#Практическая работа №:\n",
    "\n",
    "#1. Спишите представленные выше скрипт с классом Building. Запустите программу, объясните как она работает. \n",
    "#В какой момент создается атрибут where объектов? Зачем потребовалось конструкцию if-elif-else вынести в отдельную \n",
    "#функцию, а не оставить ее в методе __init__?\n",
    "\n",
    "#2. Самостоятельно придумайте класс, содержащий конструктор. Создайте на его основе несколько объектов.\n",
    "\n",
    "class Building:\n",
    "     def __init__(self,w,c,n=0):\n",
    "          self.what = w\n",
    "          self.color = c\n",
    "          self.numbers = n\n",
    "          self.mwhere(n)\n",
    " \n",
    "     def mwhere(self,n):\n",
    "          if n <= 0:\n",
    "               self.where = \"отсутствуют\"\n",
    "          elif 0 < n < 100:\n",
    "               self.where = \"малый склад\"\n",
    "          else:\n",
    "               self.where = \"основной склад\"\n",
    " \n",
    "     def plus(self,p):\n",
    "          self.numbers = self.numbers + p\n",
    "          self.mwhere(self.numbers)\n",
    "     def minus(self,m):\n",
    "          self.numbers = self.numbers - m\n",
    "          self.mwhere(self.numbers)\n",
    " \n",
    "m1 = Building(\"доски\", \"белые\",50)\n",
    "m2 = Building(\"доски\", \"коричневые\", 300)\n",
    "m3 = Building(\"кирпичи\",\"белые\")\n",
    " \n",
    "print (m1.what,m1.color,m1.where)\n",
    "print (m2.what,m2.color,m2.where)\n",
    "print (m3.what,m3.color,m3.where)\n",
    " \n",
    "m1.plus(500)\n",
    "print (m1.numbers, m1.where)"
   ]
  },
  {
   "cell_type": "code",
   "execution_count": 13,
   "metadata": {
    "collapsed": false
   },
   "outputs": [
    {
     "name": "stdout",
     "output_type": "stream",
     "text": [
      "2 1 0.5\n",
      "5\n",
      "1 3 0.7\n"
     ]
    },
    {
     "ename": "AttributeError",
     "evalue": "'Table' object has no attribute 'howplaces'",
     "output_type": "error",
     "traceback": [
      "\u001b[0;31m---------------------------------------------------------------------------\u001b[0m",
      "\u001b[0;31mAttributeError\u001b[0m                            Traceback (most recent call last)",
      "\u001b[0;32m<ipython-input-13-6fbad3ebbaa3>\u001b[0m in \u001b[0;36m<module>\u001b[0;34m()\u001b[0m\n\u001b[1;32m     23\u001b[0m \u001b[0mt_2\u001b[0m \u001b[0;34m=\u001b[0m \u001b[0mTable\u001b[0m\u001b[0;34m(\u001b[0m\u001b[0;36m1\u001b[0m\u001b[0;34m,\u001b[0m\u001b[0;36m3\u001b[0m\u001b[0;34m,\u001b[0m\u001b[0;36m0.7\u001b[0m\u001b[0;34m)\u001b[0m\u001b[0;34m\u001b[0m\u001b[0m\n\u001b[1;32m     24\u001b[0m \u001b[0mt_2\u001b[0m\u001b[0;34m.\u001b[0m\u001b[0mouting\u001b[0m\u001b[0;34m(\u001b[0m\u001b[0;34m)\u001b[0m\u001b[0;34m\u001b[0m\u001b[0m\n\u001b[0;32m---> 25\u001b[0;31m \u001b[0mt_2\u001b[0m\u001b[0;34m.\u001b[0m\u001b[0mhowplaces\u001b[0m\u001b[0;34m(\u001b[0m\u001b[0;36m8\u001b[0m\u001b[0;34m)\u001b[0m \u001b[0;31m# ОШИБКА\u001b[0m\u001b[0;34m\u001b[0m\u001b[0m\n\u001b[0m",
      "\u001b[0;31mAttributeError\u001b[0m: 'Table' object has no attribute 'howplaces'"
     ]
    }
   ],
   "source": [
    "class Table:\n",
    "     def __init__(self,l,w,h):\n",
    "          self.long = l\n",
    "          self.width = w\n",
    "          self.height = h\n",
    "     def outing(self):\n",
    "          print (self.long,self.width,self.height)\n",
    " \n",
    "class Kitchen(Table):\n",
    "     def howplaces(self,n):\n",
    "          if n < 2:\n",
    "               print (\"It is not kitchen table\")\n",
    "          else:\n",
    "               self.places = n\n",
    "     def outplases(self):\n",
    "          print (self.places)\n",
    " \n",
    "t_room1 = Kitchen(2,1,0.5)\n",
    "t_room1.outing()\n",
    "t_room1.howplaces(5)\n",
    "t_room1.outplases()\n",
    " \n",
    "t_2 = Table(1,3,0.7)\n",
    "t_2.outing()\n",
    "t_2.howplaces(8) # ОШИБКА"
   ]
  },
  {
   "cell_type": "code",
   "execution_count": null,
   "metadata": {
    "collapsed": true
   },
   "outputs": [],
   "source": []
  }
 ],
 "metadata": {
  "kernelspec": {
   "display_name": "Python 3",
   "language": "python",
   "name": "python3"
  },
  "language_info": {
   "codemirror_mode": {
    "name": "ipython",
    "version": 3
   },
   "file_extension": ".py",
   "mimetype": "text/x-python",
   "name": "python",
   "nbconvert_exporter": "python",
   "pygments_lexer": "ipython3",
   "version": "3.6.0"
  }
 },
 "nbformat": 4,
 "nbformat_minor": 0
}
