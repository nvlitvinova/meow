{
 "cells": [
  {
   "cell_type": "code",
   "execution_count": 40,
   "metadata": {
    "collapsed": false
   },
   "outputs": [],
   "source": [
    "#http://younglinux.info/python\n",
    "# Практическая работа №1\n",
    "#Переменной var_int присвойте значение 10, var_float - значение 8.4, var_str - \"No\".\n",
    "#Измените значение, хранимое в переменной var_int, увеличив его в 3.5 раза, результат свяжите с переменной big_int.\n",
    "#Измените значение, хранимое в переменной var_float, уменьшив его на единицу, результат свяжите с той же переменной.\n",
    "#Разделите var_int на var_float, а затем big_int на var_float. Результат данных выражений не привязывайте ни к каким переменным.\n",
    "#Измените значение переменной var_str на \"NoNoYesYesYes\". При формировании нового значения используйте операции конкатенации (+) и повторения строки (*).\n",
    "#Выведите значения всех переменных.\n",
    "var_int = 10\n",
    "var_float = 8.4\n",
    "var_str = \"NO\"\n",
    "\n",
    "big_int = var_int * 3.5\n",
    "var_float = var_float - 1\n",
    "var_int / var_float\n",
    "big_int / var_float\n",
    "var_str = var_str * 2 + \"Yes\" * 2"
   ]
  },
  {
   "cell_type": "code",
   "execution_count": 41,
   "metadata": {
    "collapsed": false
   },
   "outputs": [
    {
     "name": "stdout",
     "output_type": "stream",
     "text": [
      "10\n",
      "7.4\n",
      "NONOYesYes\n",
      "35.0\n"
     ]
    }
   ],
   "source": [
    "print(var_int)\n",
    "print(var_float)\n",
    "print(var_str)\n",
    "print(big_int)"
   ]
  },
  {
   "cell_type": "code",
   "execution_count": 62,
   "metadata": {
    "collapsed": false
   },
   "outputs": [
    {
     "data": {
      "text/plain": [
       "False"
      ]
     },
     "execution_count": 62,
     "metadata": {},
     "output_type": "execute_result"
    }
   ],
   "source": [
    "# Практическая работа №2\n",
    "#Присвойте двум переменным любые числовые значения.\n",
    "#Составьте четыре сложных логических выражения с помощью оператора and, два из которых должны давать истину, а два других - ложь.\n",
    "#Аналогично выполните п. 2, но уже используя оператор or.\n",
    "#Попробуйте использовать в сложных логических выражениях работу с переменными строкового типа.\n",
    "a = 13.13\n",
    "b = -4\n",
    "\n",
    "a > 10 and b!= 666\n",
    "a == 13.13 and b < 0\n",
    "a > 123 and b == -4\n",
    "a != 1 and b > -4\n",
    "\n",
    "a < 14 or b < 14\n",
    "a <= 13.13 or b != -4\n",
    "a < 13.13 or b > -4\n",
    "a == -4 or b >=0"
   ]
  },
  {
   "cell_type": "code",
   "execution_count": 21,
   "metadata": {
    "collapsed": false
   },
   "outputs": [
    {
     "data": {
      "text/plain": [
       "False"
      ]
     },
     "execution_count": 21,
     "metadata": {},
     "output_type": "execute_result"
    }
   ],
   "source": [
    "'a' >= 'b' and 'b' > 'c'"
   ]
  },
  {
   "cell_type": "code",
   "execution_count": 1,
   "metadata": {
    "collapsed": false
   },
   "outputs": [
    {
     "name": "stdout",
     "output_type": "stream",
     "text": [
      "Кажется, число меньше, либо равно нулю.\n"
     ]
    }
   ],
   "source": [
    "#Практическая работа №3\n",
    "#1. Напишите программный код, в котором в случае, если значение некой переменной больше 0, выводилось бы специальное сообщение \n",
    "#(используйте функцию print). Один раз выполните программу при значении переменной больше 0, второй раз — меньше 0.\n",
    "#2. Усовершенствуйте предыдущий код с помощью ветки else так, чтобы в зависимости от значения переменной, выводилась либо 1, либо -1.\n",
    "#3. Самостоятельно придумайте программу, в которой бы использовалась инструкция if (желательно с веткой else). Вложенный код \n",
    "#должен содержать не менее трех выражений.'a' > 'b' and 'b' != 'c'\n",
    "\n",
    "a = -12\n",
    "if a > 0:\n",
    "    print('Ого, число больше нуля!')\n",
    "else:\n",
    "    print('Кажется, число меньше, либо равно нулю.')"
   ]
  },
  {
   "cell_type": "code",
   "execution_count": 15,
   "metadata": {
    "collapsed": false
   },
   "outputs": [
    {
     "name": "stdout",
     "output_type": "stream",
     "text": [
      "Введи любое целое число!\n",
      "34\n",
      "1\n"
     ]
    }
   ],
   "source": [
    "print('Введи любое целое число!')\n",
    "a = int(input())\n",
    "if a > 0:\n",
    "    print('1')\n",
    "elif a == 0:\n",
    "    print('0')\n",
    "else:\n",
    "    print('-1')"
   ]
  },
  {
   "cell_type": "code",
   "execution_count": 30,
   "metadata": {
    "collapsed": false
   },
   "outputs": [
    {
     "name": "stdout",
     "output_type": "stream",
     "text": [
      "Привет! Первый вопрос. Как тебя зовут?\n",
      "\n",
      "Друг, кажется, ты забыл свое имя...\n"
     ]
    }
   ],
   "source": [
    "print('Привет! Первый вопрос. Как тебя зовут?')\n",
    "a = str(input())\n",
    "if len(a) > 5 and len(a) <= 13:\n",
    "    print('Длина твоего имени более 5 символов!')\n",
    "elif len(a) == 5:\n",
    "    print('Ого, длина твоего имени ровно 5 символов!')\n",
    "elif len(a) == 0:\n",
    "    print('Друг, кажется, ты забыл свое имя...')\n",
    "elif len(a) > 13:\n",
    "    print('У тебя подозрительно длинное имя, я вычислю твое имя по ай пи!')\n",
    "else:\n",
    "    print('Длина твоего имени менее 5 символов!')"
   ]
  },
  {
   "cell_type": "code",
   "execution_count": 22,
   "metadata": {
    "collapsed": false
   },
   "outputs": [
    {
     "name": "stdout",
     "output_type": "stream",
     "text": [
      "0\n",
      "Mid\n"
     ]
    }
   ],
   "source": [
    "a = int(input())\n",
    "if a < -5:\n",
    "    print('Low')\n",
    "elif -5 <= a <= 5:\n",
    "    print('Mid')\n",
    "else:\n",
    "    print('High')"
   ]
  }
 ],
 "metadata": {
  "kernelspec": {
   "display_name": "Python 3",
   "language": "python",
   "name": "python3"
  },
  "language_info": {
   "codemirror_mode": {
    "name": "ipython",
    "version": 3
   },
   "file_extension": ".py",
   "mimetype": "text/x-python",
   "name": "python",
   "nbconvert_exporter": "python",
   "pygments_lexer": "ipython3",
   "version": "3.6.0"
  }
 },
 "nbformat": 4,
 "nbformat_minor": 2
}
