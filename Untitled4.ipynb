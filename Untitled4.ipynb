{
 "cells": [
  {
   "cell_type": "code",
   "execution_count": 155,
   "metadata": {
    "collapsed": false
   },
   "outputs": [],
   "source": [
    "#Написать функцию, которая на вход принимает список элементов и выводит словарь \n",
    "#из того, какой элемент сколько раз встречался (например, \"1\": \"3\", \"2\": \"2\")\n",
    "dct = {}\n",
    " \n",
    "def elements(list):\n",
    "    for i in list:\n",
    "        if i in dct:\n",
    "            dct[i] += 1\n",
    "        else:\n",
    "            dct[i] = 1  \n",
    " \n",
    "    for i in sorted(dct):\n",
    "        print(i,dct[i])"
   ]
  },
  {
   "cell_type": "code",
   "execution_count": 157,
   "metadata": {
    "collapsed": false
   },
   "outputs": [
    {
     "name": "stdout",
     "output_type": "stream",
     "text": [
      "1 1\n",
      "4 2\n",
      "6 1\n"
     ]
    }
   ],
   "source": [
    "elements([1, 4, 4, 6])"
   ]
  },
  {
   "cell_type": "code",
   "execution_count": 20,
   "metadata": {
    "collapsed": false
   },
   "outputs": [],
   "source": [
    "#1. Три класса - фигура, круг, квадрат.\n",
    "#   Три метода:\n",
    "#     1. Получить периметр\n",
    "#     2. Получить площадь\n",
    "import math\n",
    "\n",
    "class figure:\n",
    "    def __init__(self, radius = 10):\n",
    "        self.radius = radius\n",
    "        self.perimetr = 1\n",
    "        self.ploschad = 1\n",
    "        self.pi = 3.14\n",
    "        \n",
    "    def get_radius(self):\n",
    "        return self.radius\n",
    "    \n",
    "    def set_radius(self, radius):\n",
    "        self.radius = radius\n",
    "    \n",
    "    def get_perimetr(self):\n",
    "        self.perimetr = self.pi * 100\n",
    "        return self.perimetr\n",
    "    \n",
    "    def get_ploschad(self):\n",
    "        self.ploschad = self.radius ** 10\n",
    "        return self.ploschad\n",
    "    \n",
    "class circle(figure):\n",
    "    def get_radius(self):\n",
    "        return self.radius\n",
    "    \n",
    "    def set_radius(self, radius):\n",
    "        self.radius = radius\n",
    "    \n",
    "    def get_perimetr(self):\n",
    "        self.perimetr = 2 * self.pi * self.radius\n",
    "        return self.perimetr\n",
    "    \n",
    "    def get_ploschad(self):\n",
    "        self.ploschad = self.pi * self.radius ** 2\n",
    "        return self.ploschad\n",
    "    \n",
    "class square(figure):\n",
    "    def __init__(self, storona = 10):\n",
    "        self.storona = storona\n",
    "        \n",
    "    def get_storona(self):\n",
    "        return self.storona\n",
    "    \n",
    "    def set_storona(self, storona):\n",
    "        self.storona = storona\n",
    "    \n",
    "    def get_perimetr(self):\n",
    "        self.perimetr = 4 * self.storona\n",
    "        return self.perimetr\n",
    "    \n",
    "    def get_ploschad(self):\n",
    "        self.ploschad = self.storona ** 2\n",
    "        return self.ploschad\n",
    "    \n",
    "class trapezium(figure):\n",
    "    def __init__(self):\n",
    "        self.osnovaniye1 = 5\n",
    "        self.osnovaniye2 = 11\n",
    "        self.vysota = 4\n",
    "        \n",
    "    def get_osnovaniye1(self):\n",
    "        return self.osnovaniye1\n",
    "    \n",
    "    def set_osnovaniye1(self, storona):\n",
    "        self.osnovaniye1 = osnovaniye1\n",
    "        \n",
    "    def get_osnovaniye2(self):\n",
    "        return self.osnovaniye2\n",
    "    \n",
    "    def set_osnovaniye2(self, storona):\n",
    "        self.osnovaniye2 = osnovaniye2\n",
    "        \n",
    "    def get_vysota(self):\n",
    "        return self.vysota\n",
    "    \n",
    "    def set_vysota(self, vysota):\n",
    "        self.vysota = vysota\n",
    "    \n",
    "    def get_perimetr(self):\n",
    "        osnovaniye = (self.osnovaniye2 - self.osnovaniye1) / 2\n",
    "        self.perimetr = 2 * self.osnovaniye1 + (math.sqrt(self.vysota ** 2 + osnovaniye ** 2)) * 2 + osnovaniye * 2\n",
    "        #2 * self.osnovaniye1 + (math.sqrt(self.vysota ** 2 + osnovaniye ** 2)) + osnovaniye\n",
    "        return self.perimetr \n",
    "    \n",
    "    def get_ploschad(self):\n",
    "        self.ploschad = (self.osnovaniye1 + self.osnovaniye2) / 2 * self.vysota\n",
    "        return self.ploschad"
   ]
  },
  {
   "cell_type": "code",
   "execution_count": 14,
   "metadata": {
    "collapsed": false
   },
   "outputs": [
    {
     "data": {
      "text/plain": [
       "1073741824"
      ]
     },
     "execution_count": 14,
     "metadata": {},
     "output_type": "execute_result"
    }
   ],
   "source": [
    "f = figure()\n",
    "f.set_radius(8)\n",
    "#f.get_radius()\n",
    "#f.get_perimetr()\n",
    "f.get_ploschad()"
   ]
  },
  {
   "cell_type": "code",
   "execution_count": 13,
   "metadata": {
    "collapsed": false
   },
   "outputs": [
    {
     "data": {
      "text/plain": [
       "200.96"
      ]
     },
     "execution_count": 13,
     "metadata": {},
     "output_type": "execute_result"
    }
   ],
   "source": [
    "c = circle()\n",
    "c.set_radius(8)\n",
    "#f.get_radius()\n",
    "#f.get_perimetr()\n",
    "c.get_ploschad()"
   ]
  },
  {
   "cell_type": "code",
   "execution_count": 19,
   "metadata": {
    "collapsed": false
   },
   "outputs": [
    {
     "data": {
      "text/plain": [
       "25"
      ]
     },
     "execution_count": 19,
     "metadata": {},
     "output_type": "execute_result"
    }
   ],
   "source": [
    "s = square()\n",
    "s.set_storona(5)\n",
    "s.get_storona()\n",
    "#s.get_perimetr()\n",
    "s.get_ploschad()"
   ]
  },
  {
   "cell_type": "code",
   "execution_count": 22,
   "metadata": {
    "collapsed": false
   },
   "outputs": [
    {
     "data": {
      "text/plain": [
       "32.0"
      ]
     },
     "execution_count": 22,
     "metadata": {},
     "output_type": "execute_result"
    }
   ],
   "source": [
    "t = trapezium()\n",
    "#t.set_vysota(7)\n",
    "#t.get_perimetr()\n",
    "t.get_ploschad()"
   ]
  },
  {
   "cell_type": "code",
   "execution_count": 42,
   "metadata": {
    "collapsed": false
   },
   "outputs": [
    {
     "ename": "NameError",
     "evalue": "name 'n' is not defined",
     "traceback": [
      "\u001b[0;31m---------------------------------------------------------------------------\u001b[0m",
      "\u001b[0;31mNameError\u001b[0m                                 Traceback (most recent call last)",
      "\u001b[0;32m<ipython-input-42-b2cb0b51c617>\u001b[0m in \u001b[0;36m<module>\u001b[0;34m()\u001b[0m\n\u001b[1;32m     51\u001b[0m \u001b[0;34m\u001b[0m\u001b[0m\n\u001b[1;32m     52\u001b[0m \u001b[0;31m#t1 = Task(\"первая\")\u001b[0m\u001b[0;34m\u001b[0m\u001b[0;34m\u001b[0m\u001b[0m\n\u001b[0;32m---> 53\u001b[0;31m \u001b[0mt1\u001b[0m\u001b[0;34m.\u001b[0m\u001b[0madd_task\u001b[0m\u001b[0;34m(\u001b[0m\u001b[0;34m\"первая\"\u001b[0m\u001b[0;34m)\u001b[0m\u001b[0;34m\u001b[0m\u001b[0m\n\u001b[0m",
      "\u001b[0;32m<ipython-input-41-5932e920f75d>\u001b[0m in \u001b[0;36madd_task\u001b[0;34m(self, t)\u001b[0m\n\u001b[1;32m     20\u001b[0m             \u001b[0mself\u001b[0m\u001b[0;34m.\u001b[0m\u001b[0mn\u001b[0m \u001b[0;34m=\u001b[0m \u001b[0;36m1\u001b[0m\u001b[0;34m\u001b[0m\u001b[0m\n\u001b[1;32m     21\u001b[0m \u001b[0;31m#        return self.t\u001b[0m\u001b[0;34m\u001b[0m\u001b[0;34m\u001b[0m\u001b[0m\n\u001b[0;32m---> 22\u001b[0;31m         \u001b[0mtask\u001b[0m \u001b[0;34m=\u001b[0m \u001b[0;34m[\u001b[0m\u001b[0mn\u001b[0m\u001b[0;34m,\u001b[0m \u001b[0mt\u001b[0m\u001b[0;34m,\u001b[0m \u001b[0ms\u001b[0m\u001b[0;34m]\u001b[0m\u001b[0;34m\u001b[0m\u001b[0m\n\u001b[0m\u001b[1;32m     23\u001b[0m         \u001b[0mprint\u001b[0m\u001b[0;34m(\u001b[0m\u001b[0mtask\u001b[0m\u001b[0;34m)\u001b[0m\u001b[0;34m\u001b[0m\u001b[0m\n\u001b[1;32m     24\u001b[0m \u001b[0;34m\u001b[0m\u001b[0m\n",
      "\u001b[0;31mNameError\u001b[0m: name 'n' is not defined"
     ],
     "output_type": "error"
    }
   ],
   "source": [
    "#2. Список дел\n",
    "#    1. 2 класса (Список и задача)\n",
    "#        1. Задачу можно создать, удалить, пометить сделанной\n",
    "#        2. Задачи можно просмотреть\n",
    "#        3. Задачи можно перемещать по списку вверх и вниз\n",
    "#    2. * Список с задачами сохраняется на диск в файл и подгружается из файла\n",
    "\n",
    "\n",
    "class Task:\n",
    "    def __init__(self,t,s = \"Open\",n = 1):\n",
    "        self.n = n\n",
    "        self.t = t\n",
    "        self.s = s\n",
    "        \n",
    "    def add_task(self,t):\n",
    "        self.t = t\n",
    "        if self.n != 1:\n",
    "            self.n = self.n + 1\n",
    "        else:\n",
    "            self.n = 1\n",
    "#        return self.t\n",
    "        task = [n, t, s]\n",
    "        print(task)\n",
    "\n",
    "\n",
    "#    def number_task(self,n):\n",
    "#        self.number = self.number + 1\n",
    "                    \n",
    "#    def delete_task(self,n):\n",
    "#        self.Task.number(self)\n",
    "              \n",
    "#    def set_status(self,s):   #присвоить любой статус\n",
    "#        self.status = s\n",
    "        \n",
    "#    def done_status(self):   #присвоить статус \"done\"\n",
    "#        self.status = \"Done\"\n",
    "\n",
    "class List(Task):\n",
    "    \n",
    "    task_list = []\n",
    "    \n",
    "    def __init__(self,n = 1):\n",
    "        self.n = n\n",
    "        \n",
    "        \n",
    "#t1 = Task(\"Первая\")\n",
    "#t2 = Task(\"Вторая\")\n",
    "\n",
    "#print(t1.text, t1.status)\n",
    "#print(t2.text, t2.status)\n",
    "\n",
    "#t1 = Task(\"первая\")\n",
    "t1.add_task(\"первая\")"
   ]
  },
  {
   "cell_type": "code",
   "execution_count": 97,
   "metadata": {
    "collapsed": true
   },
   "outputs": [],
   "source": [
    "#encode\n",
    "#file like object\n",
    "f = open(\"111.txt\", 'r', encoding = \"utf-8\")"
   ]
  },
  {
   "cell_type": "code",
   "execution_count": 79,
   "metadata": {
    "collapsed": false
   },
   "outputs": [
    {
     "data": {
      "text/plain": [
       "False"
      ]
     },
     "execution_count": 79,
     "metadata": {},
     "output_type": "execute_result"
    }
   ],
   "source": [
    "f.writable()"
   ]
  },
  {
   "cell_type": "code",
   "execution_count": 81,
   "metadata": {
    "collapsed": false
   },
   "outputs": [
    {
     "data": {
      "text/plain": [
       "'123\\n'"
      ]
     },
     "execution_count": 81,
     "metadata": {},
     "output_type": "execute_result"
    }
   ],
   "source": [
    "f.readline()"
   ]
  },
  {
   "cell_type": "code",
   "execution_count": 84,
   "metadata": {
    "collapsed": false
   },
   "outputs": [
    {
     "data": {
      "text/plain": [
       "'asd\\n'"
      ]
     },
     "execution_count": 84,
     "metadata": {},
     "output_type": "execute_result"
    }
   ],
   "source": [
    "f.readline()"
   ]
  },
  {
   "cell_type": "code",
   "execution_count": 90,
   "metadata": {
    "collapsed": false
   },
   "outputs": [
    {
     "data": {
      "text/plain": [
       "2"
      ]
     },
     "execution_count": 90,
     "metadata": {},
     "output_type": "execute_result"
    }
   ],
   "source": [
    "f.seek(2, 0) #возврат указатель 0 - указатель на байт"
   ]
  },
  {
   "cell_type": "code",
   "execution_count": 85,
   "metadata": {
    "collapsed": false
   },
   "outputs": [
    {
     "data": {
      "text/plain": [
       "'123\\n'"
      ]
     },
     "execution_count": 85,
     "metadata": {},
     "output_type": "execute_result"
    }
   ],
   "source": [
    "f.readline()"
   ]
  },
  {
   "cell_type": "code",
   "execution_count": 91,
   "metadata": {
    "collapsed": false
   },
   "outputs": [
    {
     "data": {
      "text/plain": [
       "['d\\n', '123\\n', 'апр\\n', '     \\n']"
      ]
     },
     "execution_count": 91,
     "metadata": {},
     "output_type": "execute_result"
    }
   ],
   "source": [
    "f.readlines()"
   ]
  },
  {
   "cell_type": "code",
   "execution_count": 95,
   "metadata": {
    "collapsed": false
   },
   "outputs": [
    {
     "data": {
      "text/plain": [
       "'asd\\n123\\nапр\\n     \\n'"
      ]
     },
     "execution_count": 95,
     "metadata": {},
     "output_type": "execute_result"
    }
   ],
   "source": [
    "f.read()"
   ]
  },
  {
   "cell_type": "code",
   "execution_count": 100,
   "metadata": {
    "collapsed": true
   },
   "outputs": [],
   "source": [
    "f.close()"
   ]
  },
  {
   "cell_type": "code",
   "execution_count": 102,
   "metadata": {
    "collapsed": false
   },
   "outputs": [
    {
     "ename": "SyntaxError",
     "evalue": "EOL while scanning string literal (<ipython-input-102-1ef74f210037>, line 1)",
     "traceback": [
      "\u001b[0;36m  File \u001b[0;32m\"<ipython-input-102-1ef74f210037>\"\u001b[0;36m, line \u001b[0;32m1\u001b[0m\n\u001b[0;31m    f2 = open(\"wt.txt\", 'w+\")\u001b[0m\n\u001b[0m                             ^\u001b[0m\n\u001b[0;31mSyntaxError\u001b[0m\u001b[0;31m:\u001b[0m EOL while scanning string literal\n"
     ],
     "output_type": "error"
    }
   ],
   "source": [
    "f2 = open(\"wt.txt\", 'w+\")"
   ]
  },
  {
   "cell_type": "code",
   "execution_count": null,
   "metadata": {
    "collapsed": true
   },
   "outputs": [],
   "source": [
    "f2.write(\"123123\")"
   ]
  },
  {
   "cell_type": "code",
   "execution_count": null,
   "metadata": {
    "collapsed": true
   },
   "outputs": [],
   "source": [
    "f2.close()"
   ]
  },
  {
   "cell_type": "code",
   "execution_count": 103,
   "metadata": {
    "collapsed": true
   },
   "outputs": [],
   "source": [
    "with open(\"wt2.txt\", \"w+\") as f3:\n",
    "    f3.write(\"пишу\\nкак\\nотец\")"
   ]
  },
  {
   "cell_type": "code",
   "execution_count": 104,
   "metadata": {
    "collapsed": false
   },
   "outputs": [
    {
     "data": {
      "text/plain": [
       "['пишу\\n', 'как\\n', 'отец']"
      ]
     },
     "execution_count": 104,
     "metadata": {},
     "output_type": "execute_result"
    }
   ],
   "source": [
    "with open(\"wt2.txt\", \"r\") as f4:\n",
    "    lines = f4.readlines()\n",
    "lines"
   ]
  },
  {
   "cell_type": "code",
   "execution_count": 110,
   "metadata": {
    "collapsed": true
   },
   "outputs": [],
   "source": [
    "import json\n",
    "obj = {\n",
    "    \"asd\": [1, 2, 3],\n",
    "    \"oth\": {\n",
    "        \"data\": \"nodata\",\n",
    "        \"st\": \"123\"\n",
    "    }\n",
    "}"
   ]
  },
  {
   "cell_type": "code",
   "execution_count": 111,
   "metadata": {
    "collapsed": false
   },
   "outputs": [],
   "source": [
    "with open(\"data.txt\", \"w+\") as f:\n",
    "    json.dump(obj, f)"
   ]
  },
  {
   "cell_type": "code",
   "execution_count": 113,
   "metadata": {
    "collapsed": false
   },
   "outputs": [],
   "source": [
    "with open(\"data.txt\", \"r\") as f:\n",
    "    obj2 = json.load(f)"
   ]
  },
  {
   "cell_type": "code",
   "execution_count": 116,
   "metadata": {
    "collapsed": false
   },
   "outputs": [
    {
     "data": {
      "text/plain": [
       "[1, 2, 3]"
      ]
     },
     "execution_count": 116,
     "metadata": {},
     "output_type": "execute_result"
    }
   ],
   "source": [
    "obj['asd']"
   ]
  },
  {
   "cell_type": "code",
   "execution_count": null,
   "metadata": {
    "collapsed": true
   },
   "outputs": [],
   "source": [
    "import sys\n",
    "print(sys.argv)\n",
    "print(\"Hello, {}\".format(sys.argv[1]))\n",
    "\n",
    "python main.py Natasha"
   ]
  }
 ],
 "metadata": {
  "kernelspec": {
   "display_name": "Python 3",
   "language": "python",
   "name": "python3"
  },
  "language_info": {
   "codemirror_mode": {
    "name": "ipython",
    "version": 3.0
   },
   "file_extension": ".py",
   "mimetype": "text/x-python",
   "name": "python",
   "nbconvert_exporter": "python",
   "pygments_lexer": "ipython3",
   "version": "3.6.0"
  }
 },
 "nbformat": 4,
 "nbformat_minor": 0
}